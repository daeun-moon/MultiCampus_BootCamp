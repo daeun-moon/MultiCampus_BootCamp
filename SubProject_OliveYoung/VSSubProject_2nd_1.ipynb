{
 "cells": [
  {
   "attachments": {},
   "cell_type": "markdown",
   "metadata": {},
   "source": [
    "## 실시간 향수/디퓨저 부분 랭킹 크롤링 함수 "
   ]
  },
  {
   "cell_type": "code",
   "execution_count": 2,
   "metadata": {},
   "outputs": [],
   "source": [
    "def perfume_realtime_crawl(): \n",
    "    from bs4 import BeautifulSoup\n",
    "    import json\n",
    "    import requests\n",
    "\n",
    "    # stats---- 크롤링 부분\n",
    "    URL = 'https://rts.ai.oliveyoung.co.kr/api/stats'\n",
    "    parameters='?type=view&size=100&categoryid=10000010005&cuid=8b47cf9f-efd1-48e4-8f83-10ee8a07945b'\n",
    "    params = {    \n",
    "    \"type\":\"view\",\n",
    "    \"size\":\"100\",\n",
    "    \"categoryid\":\"10000010005\",\n",
    "    \"cuid\":\"8b47cf9f-efd1-48e4-8f83-10ee8a07945b\"\n",
    "    }\n",
    "    head = {\"User-Agent\": \"Mozilla/5.0 (Windows NT 10.0; Win64; x64) AppleWebKit/537.36 (KHTML, like Gecko) Chrome/110.0.0.0 Safari/537.36\"}\n",
    "    response = requests.get(URL, params = params)\n",
    "    response.status_code\n",
    "\n",
    "    import json\n",
    "    json_result = json.loads(response.text)\n",
    "\n",
    "    # payload 준비\n",
    "    itemid = [] # A000000170878 등 \n",
    "    itemrank = [] # 위에서는 rank 값 \n",
    "    itemview = [] # 위에서는 count 값\n",
    "    for item in json_result['items']:\n",
    "        temp  = str(item['itemUrl'])[8:]\n",
    "        itemid.append(temp)\n",
    "        itemrank.append(str(item['rank']))\n",
    "        itemview.append(str(item['count']))\n",
    "    itemid_str = ','.join(itemid)\n",
    "    itemrank_str = ','.join(itemrank)\n",
    "    itemview_str = ','.join(itemview)\n",
    "    payloads = {'goodsNoStr':itemid_str, \"rankStr\":itemrank_str, 'viewCntStr':itemview_str}\n",
    "\n",
    "    # getCuration--- 크롤링 부분\n",
    "    URL = 'https://www.oliveyoung.co.kr/store/curation/getCurationRankBestListAjax.do'\n",
    "\n",
    "    head = {\"User-Agent\": \"Mozilla/5.0 (Windows NT 10.0; Win64; x64) AppleWebKit/537.36 (KHTML, like Gecko) Chrome/110.0.0.0 Safari/537.36\"}\n",
    "    response = requests.post(URL, headers=head, data=payloads )\n",
    "    response.status_code\n",
    "    soup = BeautifulSoup(response.text, 'html.parser')\n",
    "\n",
    "    # 정보 얻어와서 리스트에 넣기\n",
    "    results = soup.select('div.prd_info')\n",
    "    realtime_itemlist = [] # 실시간 향수/디퓨저 랭킹 상품명\n",
    "    realtime_brandlist = [] # 실시간 향수/디퓨저 랭킹 브랜드명\n",
    "    realtime_viewlist = [] # 실시간 향수/디퓨저 랭킹 보고 있는 사람 수 \n",
    "    for result in results :\n",
    "        realtime_itemlist.append(str(result.select_one('.prd_name .tx_name'))[19:-4]) # 상품명\n",
    "        realtime_brandlist.append(str(result.select_one('.prd_name .tx_brand'))[23:-7])\n",
    "        realtime_viewlist.append(str(result.select_one('.prd_name .viewNum'))[22:-7])\n",
    "\n",
    "    return realtime_itemlist , realtime_brandlist , realtime_viewlist \n"
   ]
  },
  {
   "cell_type": "code",
   "execution_count": 15,
   "metadata": {},
   "outputs": [],
   "source": [
    "\n",
    "realtime_itemlist , realtime_brandlist , realtime_viewlist =perfume_realtime_crawl() \n",
    "\n",
    "# 정보 합치기 함수\n",
    "def make_dict(realtime_itemlist , realtime_brandlist , realtime_viewlist):\n",
    "    alist = []\n",
    "    for i in range(len(realtime_itemlist)):\n",
    "        real_info =  {\n",
    "            '제품명' : realtime_itemlist[i],\n",
    "            '브랜드명' : realtime_brandlist[i],\n",
    "            'Viewer 수': realtime_viewlist[i] \n",
    "        }\n",
    "        alist.append(real_info)\n",
    "    return alist\n",
    "\n",
    "# make_dict(realtime_itemlist , realtime_brandlist , realtime_viewlist)\n"
   ]
  },
  {
   "cell_type": "code",
   "execution_count": 9,
   "metadata": {},
   "outputs": [
    {
     "name": "stdout",
     "output_type": "stream",
     "text": [
      "약 17 분 걸립니다. \n"
     ]
    }
   ],
   "source": [
    "#몇분동안 내가 원하는 제품의 watcher 수를 꺾은선 그래프를 나타내보자\n",
    "from time import sleep\n",
    "import math\n",
    "time= 100\n",
    "print(\"약\",math.ceil(time*10/60),\"분 걸립니다. \")\n",
    "\n",
    "# 10초마다 크롤링하여 total_list에 모두 넣기!  \n",
    "total_list = []\n",
    "for i in range(time):\n",
    "    realtime_itemlist , realtime_brandlist , realtime_viewlist =perfume_realtime_crawl() \n",
    "    total_list.append(make_dict(realtime_itemlist , realtime_brandlist , realtime_viewlist))\n",
    "    sleep(10)\n",
    "\n",
    "# 원하는 상품명 찾고, 해당 viewer 수 view_count에 넣기\n",
    "want_item = '헉슬리 퍼퓸 디스커버리 세트 (1.5ml*6ea)'\n",
    "check  = 0 # 순위밖으로 밀려날 경우\n",
    "view_count = []\n",
    "for total in total_list:\n",
    "    for detail in total : \n",
    "        if detail['제품명']==want_item:\n",
    "            view_count.append(detail['Viewer 수'])\n",
    "            check+=1\n",
    "    if check ==0 :\n",
    "        view_count.append(0)\n",
    "\n"
   ]
  },
  {
   "cell_type": "code",
   "execution_count": 14,
   "metadata": {},
   "outputs": [],
   "source": [
    "# view_count"
   ]
  },
  {
   "cell_type": "code",
   "execution_count": 11,
   "metadata": {},
   "outputs": [],
   "source": [
    "import pandas as pd\n",
    "import numpy as np\n",
    "import openpyxl\n",
    "df = pd.DataFrame({'Viewer 수': view_count})\n",
    "# 엑셀로 따로 저장하기 (크롤링하는데 오래 걸려서)\n",
    "df.to_excel('test.xlsx', index=False)\n",
    "\n"
   ]
  },
  {
   "cell_type": "code",
   "execution_count": 12,
   "metadata": {},
   "outputs": [],
   "source": [
    "# 엑셀 불러오기\n",
    "view_excel = pd.read_excel('test.xlsx')"
   ]
  },
  {
   "cell_type": "code",
   "execution_count": 13,
   "metadata": {},
   "outputs": [
    {
     "data": {
      "image/png": "[encoded data removed]",
      "text/plain": [
       "<Figure size 640x480 with 1 Axes>"
      ]
     },
     "metadata": {},
     "output_type": "display_data"
    }
   ],
   "source": [
    "# 그래프 출력 \n",
    "import matplotlib.pyplot as plt  \n",
    "plt.plot([(i+1) for i in range(time)],view_excel['Viewer 수'],color='blue',linestyle='-')\n",
    "plt.xlabel('Time') #x 라벨\n",
    "plt.ylabel('The number of Viewers') #y 라벨\n",
    "plt.title(\"Change\") #그래프 이름\n",
    "#그래프 출력\n",
    "plt.show()"
   ]
  }
 ],
 "metadata": {
  "kernelspec": {
   "display_name": "base",
   "language": "python",
   "name": "python3"
  },
  "language_info": {
   "codemirror_mode": {
    "name": "ipython",
    "version": 3
   },
   "file_extension": ".py",
   "mimetype": "text/x-python",
   "name": "python",
   "nbconvert_exporter": "python",
   "pygments_lexer": "ipython3",
   "version": "3.9.13"
  },
  "orig_nbformat": 4,
  "vscode": {
   "interpreter": {
    "hash": "a077222d77dfe082b8f1dd562ad70e458ac2ab76993a0b248ab0476e32e9e8dd"
   }
  }
 },
 "nbformat": 4,
 "nbformat_minor": 2
}
